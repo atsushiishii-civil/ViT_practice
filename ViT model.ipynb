{
 "cells": [
  {
   "cell_type": "markdown",
   "metadata": {},
   "source": [
    "## ViTの実装"
   ]
  },
  {
   "cell_type": "markdown",
   "metadata": {},
   "source": [
    "## 1. import the necessary libraries"
   ]
  },
  {
   "cell_type": "code",
   "execution_count": 1,
   "metadata": {},
   "outputs": [],
   "source": [
    "#### 1. import the necessary libraries\n",
    "import torch\n",
    "import torch.nn as nn\n",
    "from vit import ViT\n",
    "import matplotlib.pyplot as plt\n",
    "from train import train\n",
    "from torchsummary import summary"
   ]
  },
  {
   "cell_type": "markdown",
   "metadata": {
    "tags": []
   },
   "source": [
    "## 2. Train the model"
   ]
  },
  {
   "cell_type": "markdown",
   "metadata": {},
   "source": [
    "### 2.1. Check the device"
   ]
  },
  {
   "cell_type": "code",
   "execution_count": 2,
   "metadata": {},
   "outputs": [],
   "source": [
    "if torch.backends.mps.is_available():\n",
    "    device = torch.device('mps')\n",
    "else:\n",
    "    device = torch.device('cpu')"
   ]
  },
  {
   "cell_type": "markdown",
   "metadata": {},
   "source": [
    "### 2.2. Load the dataset"
   ]
  },
  {
   "cell_type": "code",
   "execution_count": 3,
   "metadata": {},
   "outputs": [
    {
     "name": "stdout",
     "output_type": "stream",
     "text": [
      "Files already downloaded and verified\n",
      "Files already downloaded and verified\n",
      "Train Dataloader - Batch size: 128, Image size: 32x32\n",
      "Eval Dataloader - Batch size: 128, Image size: 32x32\n",
      "Classes: ['airplane', 'automobile', 'bird', 'cat', 'deer', 'dog', 'frog', 'horse', 'ship', 'truck']\n"
     ]
    }
   ],
   "source": [
    "from dataloader import get_dataloader\n",
    "batch_size = 128\n",
    "train_dataloader, val_dataloader, test_dataloader = get_dataloader(batch_size = batch_size)\n",
    "# Check the image size and batch size from the first batch of each dataloader\n",
    "for name, dataloader in zip(['Train', 'Eval'], [train_dataloader, val_dataloader]):\n",
    "    images, labels = next(iter(dataloader))\n",
    "    ## image.shape = (batch_size, channel, img_size, img_size)\n",
    "    print(f\"{name} Dataloader - Batch size: {images.shape[0]}, Image size: {images.shape[2]}x{images.shape[3]}\")\n",
    "print(\"Classes:\",train_dataloader.dataset.classes)"
   ]
  },
  {
   "cell_type": "markdown",
   "metadata": {},
   "source": [
    "### 2.3. Define the model (ViT-4T)"
   ]
  },
  {
   "cell_type": "code",
   "execution_count": 4,
   "metadata": {},
   "outputs": [
    {
     "name": "stdout",
     "output_type": "stream",
     "text": [
      "ViT is implemented\n",
      "----------------------------------------------------------------\n",
      "        Layer (type)               Output Shape         Param #\n",
      "================================================================\n",
      "            Conv2d-1            [-1, 384, 2, 2]         295,296\n",
      "           Dropout-2               [-1, 5, 384]               0\n",
      "   ViT_input_Layer-3               [-1, 5, 384]               0\n",
      "         LayerNorm-4               [-1, 5, 384]             768\n",
      "            Linear-5               [-1, 5, 384]         147,456\n",
      "            Linear-6               [-1, 5, 384]         147,456\n",
      "            Linear-7               [-1, 5, 384]         147,456\n",
      "           Softmax-8              [-1, 3, 5, 5]               0\n",
      "           Dropout-9              [-1, 3, 5, 5]               0\n",
      "           Linear-10               [-1, 5, 384]         147,840\n",
      "Self_Attention_Layer-11               [-1, 5, 384]               0\n",
      "        LayerNorm-12               [-1, 5, 384]             768\n",
      "           Linear-13               [-1, 5, 768]         295,680\n",
      "             GELU-14               [-1, 5, 768]               0\n",
      "          Dropout-15               [-1, 5, 768]               0\n",
      "           Linear-16               [-1, 5, 384]         295,296\n",
      "          Dropout-17               [-1, 5, 384]               0\n",
      "    Encoder_Block-18               [-1, 5, 384]               0\n",
      "        LayerNorm-19               [-1, 5, 384]             768\n",
      "           Linear-20               [-1, 5, 384]         147,456\n",
      "           Linear-21               [-1, 5, 384]         147,456\n",
      "           Linear-22               [-1, 5, 384]         147,456\n",
      "          Softmax-23              [-1, 3, 5, 5]               0\n",
      "          Dropout-24              [-1, 3, 5, 5]               0\n",
      "           Linear-25               [-1, 5, 384]         147,840\n",
      "Self_Attention_Layer-26               [-1, 5, 384]               0\n",
      "        LayerNorm-27               [-1, 5, 384]             768\n",
      "           Linear-28               [-1, 5, 768]         295,680\n",
      "             GELU-29               [-1, 5, 768]               0\n",
      "          Dropout-30               [-1, 5, 768]               0\n",
      "           Linear-31               [-1, 5, 384]         295,296\n",
      "          Dropout-32               [-1, 5, 384]               0\n",
      "    Encoder_Block-33               [-1, 5, 384]               0\n",
      "        LayerNorm-34               [-1, 5, 384]             768\n",
      "           Linear-35               [-1, 5, 384]         147,456\n",
      "           Linear-36               [-1, 5, 384]         147,456\n",
      "           Linear-37               [-1, 5, 384]         147,456\n",
      "          Softmax-38              [-1, 3, 5, 5]               0\n",
      "          Dropout-39              [-1, 3, 5, 5]               0\n",
      "           Linear-40               [-1, 5, 384]         147,840\n",
      "Self_Attention_Layer-41               [-1, 5, 384]               0\n",
      "        LayerNorm-42               [-1, 5, 384]             768\n",
      "           Linear-43               [-1, 5, 768]         295,680\n",
      "             GELU-44               [-1, 5, 768]               0\n",
      "          Dropout-45               [-1, 5, 768]               0\n",
      "           Linear-46               [-1, 5, 384]         295,296\n",
      "          Dropout-47               [-1, 5, 384]               0\n",
      "    Encoder_Block-48               [-1, 5, 384]               0\n",
      "        LayerNorm-49               [-1, 5, 384]             768\n",
      "           Linear-50               [-1, 5, 384]         147,456\n",
      "           Linear-51               [-1, 5, 384]         147,456\n",
      "           Linear-52               [-1, 5, 384]         147,456\n",
      "          Softmax-53              [-1, 3, 5, 5]               0\n",
      "          Dropout-54              [-1, 3, 5, 5]               0\n",
      "           Linear-55               [-1, 5, 384]         147,840\n",
      "Self_Attention_Layer-56               [-1, 5, 384]               0\n",
      "        LayerNorm-57               [-1, 5, 384]             768\n",
      "           Linear-58               [-1, 5, 768]         295,680\n",
      "             GELU-59               [-1, 5, 768]               0\n",
      "          Dropout-60               [-1, 5, 768]               0\n",
      "           Linear-61               [-1, 5, 384]         295,296\n",
      "          Dropout-62               [-1, 5, 384]               0\n",
      "    Encoder_Block-63               [-1, 5, 384]               0\n",
      "        LayerNorm-64               [-1, 5, 384]             768\n",
      "           Linear-65               [-1, 5, 384]         147,456\n",
      "           Linear-66               [-1, 5, 384]         147,456\n",
      "           Linear-67               [-1, 5, 384]         147,456\n",
      "          Softmax-68              [-1, 3, 5, 5]               0\n",
      "          Dropout-69              [-1, 3, 5, 5]               0\n",
      "           Linear-70               [-1, 5, 384]         147,840\n",
      "Self_Attention_Layer-71               [-1, 5, 384]               0\n",
      "        LayerNorm-72               [-1, 5, 384]             768\n",
      "           Linear-73               [-1, 5, 768]         295,680\n",
      "             GELU-74               [-1, 5, 768]               0\n",
      "          Dropout-75               [-1, 5, 768]               0\n",
      "           Linear-76               [-1, 5, 384]         295,296\n",
      "          Dropout-77               [-1, 5, 384]               0\n",
      "    Encoder_Block-78               [-1, 5, 384]               0\n",
      "        LayerNorm-79               [-1, 5, 384]             768\n",
      "           Linear-80               [-1, 5, 384]         147,456\n",
      "           Linear-81               [-1, 5, 384]         147,456\n",
      "           Linear-82               [-1, 5, 384]         147,456\n",
      "          Softmax-83              [-1, 3, 5, 5]               0\n",
      "          Dropout-84              [-1, 3, 5, 5]               0\n",
      "           Linear-85               [-1, 5, 384]         147,840\n",
      "Self_Attention_Layer-86               [-1, 5, 384]               0\n",
      "        LayerNorm-87               [-1, 5, 384]             768\n",
      "           Linear-88               [-1, 5, 768]         295,680\n",
      "             GELU-89               [-1, 5, 768]               0\n",
      "          Dropout-90               [-1, 5, 768]               0\n",
      "           Linear-91               [-1, 5, 384]         295,296\n",
      "          Dropout-92               [-1, 5, 384]               0\n",
      "    Encoder_Block-93               [-1, 5, 384]               0\n",
      "        LayerNorm-94               [-1, 5, 384]             768\n",
      "           Linear-95               [-1, 5, 384]         147,456\n",
      "           Linear-96               [-1, 5, 384]         147,456\n",
      "           Linear-97               [-1, 5, 384]         147,456\n",
      "          Softmax-98              [-1, 3, 5, 5]               0\n",
      "          Dropout-99              [-1, 3, 5, 5]               0\n",
      "          Linear-100               [-1, 5, 384]         147,840\n",
      "Self_Attention_Layer-101               [-1, 5, 384]               0\n",
      "       LayerNorm-102               [-1, 5, 384]             768\n",
      "          Linear-103               [-1, 5, 768]         295,680\n",
      "            GELU-104               [-1, 5, 768]               0\n",
      "         Dropout-105               [-1, 5, 768]               0\n",
      "          Linear-106               [-1, 5, 384]         295,296\n",
      "         Dropout-107               [-1, 5, 384]               0\n",
      "   Encoder_Block-108               [-1, 5, 384]               0\n",
      "       LayerNorm-109               [-1, 5, 384]             768\n",
      "          Linear-110               [-1, 5, 384]         147,456\n",
      "          Linear-111               [-1, 5, 384]         147,456\n",
      "          Linear-112               [-1, 5, 384]         147,456\n",
      "         Softmax-113              [-1, 3, 5, 5]               0\n",
      "         Dropout-114              [-1, 3, 5, 5]               0\n",
      "          Linear-115               [-1, 5, 384]         147,840\n",
      "Self_Attention_Layer-116               [-1, 5, 384]               0\n",
      "       LayerNorm-117               [-1, 5, 384]             768\n",
      "          Linear-118               [-1, 5, 768]         295,680\n",
      "            GELU-119               [-1, 5, 768]               0\n",
      "         Dropout-120               [-1, 5, 768]               0\n",
      "          Linear-121               [-1, 5, 384]         295,296\n",
      "         Dropout-122               [-1, 5, 384]               0\n",
      "   Encoder_Block-123               [-1, 5, 384]               0\n",
      "       LayerNorm-124               [-1, 5, 384]             768\n",
      "          Linear-125               [-1, 5, 384]         147,456\n",
      "          Linear-126               [-1, 5, 384]         147,456\n",
      "          Linear-127               [-1, 5, 384]         147,456\n",
      "         Softmax-128              [-1, 3, 5, 5]               0\n",
      "         Dropout-129              [-1, 3, 5, 5]               0\n",
      "          Linear-130               [-1, 5, 384]         147,840\n",
      "Self_Attention_Layer-131               [-1, 5, 384]               0\n",
      "       LayerNorm-132               [-1, 5, 384]             768\n",
      "          Linear-133               [-1, 5, 768]         295,680\n",
      "            GELU-134               [-1, 5, 768]               0\n",
      "         Dropout-135               [-1, 5, 768]               0\n",
      "          Linear-136               [-1, 5, 384]         295,296\n",
      "         Dropout-137               [-1, 5, 384]               0\n",
      "   Encoder_Block-138               [-1, 5, 384]               0\n",
      "       LayerNorm-139               [-1, 5, 384]             768\n",
      "          Linear-140               [-1, 5, 384]         147,456\n",
      "          Linear-141               [-1, 5, 384]         147,456\n",
      "          Linear-142               [-1, 5, 384]         147,456\n",
      "         Softmax-143              [-1, 3, 5, 5]               0\n",
      "         Dropout-144              [-1, 3, 5, 5]               0\n",
      "          Linear-145               [-1, 5, 384]         147,840\n",
      "Self_Attention_Layer-146               [-1, 5, 384]               0\n",
      "       LayerNorm-147               [-1, 5, 384]             768\n",
      "          Linear-148               [-1, 5, 768]         295,680\n",
      "            GELU-149               [-1, 5, 768]               0\n",
      "         Dropout-150               [-1, 5, 768]               0\n",
      "          Linear-151               [-1, 5, 384]         295,296\n",
      "         Dropout-152               [-1, 5, 384]               0\n",
      "   Encoder_Block-153               [-1, 5, 384]               0\n",
      "       LayerNorm-154               [-1, 5, 384]             768\n",
      "          Linear-155               [-1, 5, 384]         147,456\n",
      "          Linear-156               [-1, 5, 384]         147,456\n",
      "          Linear-157               [-1, 5, 384]         147,456\n",
      "         Softmax-158              [-1, 3, 5, 5]               0\n",
      "         Dropout-159              [-1, 3, 5, 5]               0\n",
      "          Linear-160               [-1, 5, 384]         147,840\n",
      "Self_Attention_Layer-161               [-1, 5, 384]               0\n",
      "       LayerNorm-162               [-1, 5, 384]             768\n",
      "          Linear-163               [-1, 5, 768]         295,680\n",
      "            GELU-164               [-1, 5, 768]               0\n",
      "         Dropout-165               [-1, 5, 768]               0\n",
      "          Linear-166               [-1, 5, 384]         295,296\n",
      "         Dropout-167               [-1, 5, 384]               0\n",
      "   Encoder_Block-168               [-1, 5, 384]               0\n",
      "       LayerNorm-169               [-1, 5, 384]             768\n",
      "          Linear-170               [-1, 5, 384]         147,456\n",
      "          Linear-171               [-1, 5, 384]         147,456\n",
      "          Linear-172               [-1, 5, 384]         147,456\n",
      "         Softmax-173              [-1, 3, 5, 5]               0\n",
      "         Dropout-174              [-1, 3, 5, 5]               0\n",
      "          Linear-175               [-1, 5, 384]         147,840\n",
      "Self_Attention_Layer-176               [-1, 5, 384]               0\n",
      "       LayerNorm-177               [-1, 5, 384]             768\n",
      "          Linear-178               [-1, 5, 768]         295,680\n",
      "            GELU-179               [-1, 5, 768]               0\n",
      "         Dropout-180               [-1, 5, 768]               0\n",
      "          Linear-181               [-1, 5, 384]         295,296\n",
      "         Dropout-182               [-1, 5, 384]               0\n",
      "   Encoder_Block-183               [-1, 5, 384]               0\n",
      "       LayerNorm-184                  [-1, 384]             768\n",
      "          Linear-185                   [-1, 10]           3,850\n",
      "================================================================\n",
      "Total params: 14,492,554\n",
      "Trainable params: 14,492,554\n",
      "Non-trainable params: 0\n",
      "----------------------------------------------------------------\n",
      "Input size (MB): 0.01\n",
      "Forward/backward pass size (MB): 2.87\n",
      "Params size (MB): 55.28\n",
      "Estimated Total Size (MB): 58.17\n",
      "----------------------------------------------------------------\n",
      "Input shape is  torch.Size([128, 3, 32, 32])\n",
      "Output shape is  torch.Size([128, 10])\n"
     ]
    }
   ],
   "source": [
    "## Data loaderでサイズは決まる\n",
    "batch_size = images.shape[0]\n",
    "in_channels = images.shape[1]\n",
    "img_size = images.shape[2]\n",
    "num_classes = len(train_dataloader.dataset.classes) ## Using CIFAR10\n",
    "## Model options\n",
    "patch_size = 16\n",
    "embedding_dim = 192\n",
    "num_heads = 3\n",
    "num_encoder_layer = 12\n",
    "hidden_dim = 192 * 4\n",
    "dropout = 0.05\n",
    "net = ViT(in_channels = in_channels,\n",
    "            image_size = img_size,\n",
    "            num_classes = num_classes,\n",
    "            num_heads = num_heads,\n",
    "            num_encoder_layer = num_encoder_layer,\n",
    "            hidden_dim = hidden_dim,\n",
    "            dropout = dropout)\n",
    "summary(net, input_size=(in_channels, img_size, img_size))\n",
    "x = torch.randn(batch_size, in_channels, img_size, img_size)\n",
    "print(\"Input shape is \",x.shape)\n",
    "pred = net(x)\n",
    "print(\"Output shape is \",pred.shape)"
   ]
  },
  {
   "cell_type": "markdown",
   "metadata": {},
   "source": [
    "### 2.4. Define the optimizer and the loss function"
   ]
  },
  {
   "cell_type": "code",
   "execution_count": 5,
   "metadata": {},
   "outputs": [],
   "source": [
    "optimizer = torch.optim.AdamW(net.parameters(),\n",
    "                              lr=0.0005,\n",
    "                              weight_decay=0.05\n",
    "                              )\n",
    "criterion = nn.CrossEntropyLoss()\n"
   ]
  },
  {
   "cell_type": "markdown",
   "metadata": {},
   "source": [
    "### 2.5. Train the model"
   ]
  },
  {
   "cell_type": "code",
   "execution_count": 6,
   "metadata": {},
   "outputs": [
    {
     "name": "stdout",
     "output_type": "stream",
     "text": [
      "Device we use: mps\n",
      "-------------\n",
      "Epoch 1/300 starts\n"
     ]
    },
    {
     "name": "stderr",
     "output_type": "stream",
     "text": [
      "100%|██████████| 391/391 [01:14<00:00,  5.22it/s]\n"
     ]
    },
    {
     "name": "stdout",
     "output_type": "stream",
     "text": [
      "Epoch [1/300], Train loss: 749.3248783349991\n"
     ]
    },
    {
     "name": "stderr",
     "output_type": "stream",
     "text": [
      "100%|██████████| 79/79 [00:02<00:00, 26.43it/s]\n"
     ]
    },
    {
     "name": "stdout",
     "output_type": "stream",
     "text": [
      "Epoch [1/300], Val loss: 136.35238552093506\n",
      "Epoch 1/300 Ends, Time: 77.9631519317627\n",
      "-------------\n",
      "Epoch 2/300 starts\n"
     ]
    },
    {
     "name": "stderr",
     "output_type": "stream",
     "text": [
      "100%|██████████| 391/391 [00:59<00:00,  6.53it/s]\n"
     ]
    },
    {
     "name": "stdout",
     "output_type": "stream",
     "text": [
      "Epoch [2/300], Train loss: 688.3053556680679\n"
     ]
    },
    {
     "name": "stderr",
     "output_type": "stream",
     "text": [
      "100%|██████████| 79/79 [00:02<00:00, 27.67it/s]\n"
     ]
    },
    {
     "name": "stdout",
     "output_type": "stream",
     "text": [
      "Epoch [2/300], Val loss: 130.13691663742065\n",
      "Epoch 2/300 Ends, Time: 62.737663984298706\n",
      "-------------\n",
      "Epoch 3/300 starts\n"
     ]
    },
    {
     "name": "stderr",
     "output_type": "stream",
     "text": [
      "100%|██████████| 391/391 [00:58<00:00,  6.63it/s]\n"
     ]
    },
    {
     "name": "stdout",
     "output_type": "stream",
     "text": [
      "Epoch [3/300], Train loss: 664.947462439537\n"
     ]
    },
    {
     "name": "stderr",
     "output_type": "stream",
     "text": [
      "100%|██████████| 79/79 [00:02<00:00, 27.84it/s]\n"
     ]
    },
    {
     "name": "stdout",
     "output_type": "stream",
     "text": [
      "Epoch [3/300], Val loss: 127.85861873626709\n",
      "Epoch 3/300 Ends, Time: 61.775970697402954\n",
      "-------------\n",
      "Epoch 4/300 starts\n"
     ]
    },
    {
     "name": "stderr",
     "output_type": "stream",
     "text": [
      "100%|██████████| 391/391 [01:00<00:00,  6.48it/s]\n"
     ]
    },
    {
     "name": "stdout",
     "output_type": "stream",
     "text": [
      "Epoch [4/300], Train loss: 647.1603119373322\n"
     ]
    },
    {
     "name": "stderr",
     "output_type": "stream",
     "text": [
      "100%|██████████| 79/79 [00:02<00:00, 27.25it/s]\n"
     ]
    },
    {
     "name": "stdout",
     "output_type": "stream",
     "text": [
      "Epoch [4/300], Val loss: 126.20483243465424\n",
      "Epoch 4/300 Ends, Time: 63.26706624031067\n",
      "-------------\n",
      "Epoch 5/300 starts\n"
     ]
    },
    {
     "name": "stderr",
     "output_type": "stream",
     "text": [
      "100%|██████████| 391/391 [01:00<00:00,  6.50it/s]\n"
     ]
    },
    {
     "name": "stdout",
     "output_type": "stream",
     "text": [
      "Epoch [5/300], Train loss: 636.3108111619949\n"
     ]
    },
    {
     "name": "stderr",
     "output_type": "stream",
     "text": [
      "100%|██████████| 79/79 [00:02<00:00, 27.64it/s]\n"
     ]
    },
    {
     "name": "stdout",
     "output_type": "stream",
     "text": [
      "Epoch [5/300], Val loss: 124.02852928638458\n",
      "Epoch 5/300 Ends, Time: 63.044646978378296\n",
      "-------------\n",
      "Epoch 6/300 starts\n"
     ]
    },
    {
     "name": "stderr",
     "output_type": "stream",
     "text": [
      "100%|██████████| 391/391 [00:59<00:00,  6.57it/s]\n"
     ]
    },
    {
     "name": "stdout",
     "output_type": "stream",
     "text": [
      "Epoch [6/300], Train loss: 627.3014240264893\n"
     ]
    },
    {
     "name": "stderr",
     "output_type": "stream",
     "text": [
      "100%|██████████| 79/79 [00:02<00:00, 27.78it/s]\n"
     ]
    },
    {
     "name": "stdout",
     "output_type": "stream",
     "text": [
      "Epoch [6/300], Val loss: 121.52271509170532\n",
      "Epoch 6/300 Ends, Time: 62.33309626579285\n",
      "-------------\n",
      "Epoch 7/300 starts\n"
     ]
    },
    {
     "name": "stderr",
     "output_type": "stream",
     "text": [
      "100%|██████████| 391/391 [00:59<00:00,  6.60it/s]\n"
     ]
    },
    {
     "name": "stdout",
     "output_type": "stream",
     "text": [
      "Epoch [7/300], Train loss: 624.8908079862595\n"
     ]
    },
    {
     "name": "stderr",
     "output_type": "stream",
     "text": [
      "100%|██████████| 79/79 [00:02<00:00, 26.64it/s]\n"
     ]
    },
    {
     "name": "stdout",
     "output_type": "stream",
     "text": [
      "Epoch [7/300], Val loss: 122.57400023937225\n",
      "Epoch 7/300 Ends, Time: 62.183966875076294\n",
      "-------------\n",
      "Epoch 8/300 starts\n"
     ]
    },
    {
     "name": "stderr",
     "output_type": "stream",
     "text": [
      "100%|██████████| 391/391 [00:58<00:00,  6.63it/s]\n"
     ]
    },
    {
     "name": "stdout",
     "output_type": "stream",
     "text": [
      "Epoch [8/300], Train loss: 622.1585432291031\n"
     ]
    },
    {
     "name": "stderr",
     "output_type": "stream",
     "text": [
      "100%|██████████| 79/79 [00:02<00:00, 27.97it/s]\n"
     ]
    },
    {
     "name": "stdout",
     "output_type": "stream",
     "text": [
      "Epoch [8/300], Val loss: 121.41253983974457\n",
      "Epoch 8/300 Ends, Time: 61.76595115661621\n",
      "-------------\n",
      "Epoch 9/300 starts\n"
     ]
    },
    {
     "name": "stderr",
     "output_type": "stream",
     "text": [
      "100%|██████████| 391/391 [00:58<00:00,  6.63it/s]\n"
     ]
    },
    {
     "name": "stdout",
     "output_type": "stream",
     "text": [
      "Epoch [9/300], Train loss: 615.4329866170883\n"
     ]
    },
    {
     "name": "stderr",
     "output_type": "stream",
     "text": [
      "100%|██████████| 79/79 [00:02<00:00, 27.90it/s]\n"
     ]
    },
    {
     "name": "stdout",
     "output_type": "stream",
     "text": [
      "Epoch [9/300], Val loss: 123.8039071559906\n",
      "Epoch 9/300 Ends, Time: 61.77858591079712\n",
      "-------------\n",
      "Epoch 10/300 starts\n"
     ]
    },
    {
     "name": "stderr",
     "output_type": "stream",
     "text": [
      "100%|██████████| 391/391 [00:58<00:00,  6.66it/s]\n"
     ]
    },
    {
     "name": "stdout",
     "output_type": "stream",
     "text": [
      "Epoch [10/300], Train loss: 612.7242008447647\n"
     ]
    },
    {
     "name": "stderr",
     "output_type": "stream",
     "text": [
      "100%|██████████| 79/79 [00:02<00:00, 27.98it/s]\n"
     ]
    },
    {
     "name": "stdout",
     "output_type": "stream",
     "text": [
      "Epoch [10/300], Val loss: 123.35582709312439\n",
      "Epoch 10/300 Ends, Time: 61.49674391746521\n",
      "-------------\n",
      "Epoch 11/300 starts\n"
     ]
    },
    {
     "name": "stderr",
     "output_type": "stream",
     "text": [
      "100%|██████████| 391/391 [00:58<00:00,  6.67it/s]\n"
     ]
    },
    {
     "name": "stdout",
     "output_type": "stream",
     "text": [
      "Epoch [11/300], Train loss: 621.4933540821075\n"
     ]
    },
    {
     "name": "stderr",
     "output_type": "stream",
     "text": [
      "100%|██████████| 79/79 [00:02<00:00, 27.50it/s]\n"
     ]
    },
    {
     "name": "stdout",
     "output_type": "stream",
     "text": [
      "Epoch [11/300], Val loss: 127.05001294612885\n",
      "Epoch 11/300 Ends, Time: 61.52922296524048\n",
      "-------------\n",
      "Epoch 12/300 starts\n"
     ]
    },
    {
     "name": "stderr",
     "output_type": "stream",
     "text": [
      "100%|██████████| 391/391 [00:58<00:00,  6.67it/s]\n"
     ]
    },
    {
     "name": "stdout",
     "output_type": "stream",
     "text": [
      "Epoch [12/300], Train loss: 615.771476149559\n"
     ]
    },
    {
     "name": "stderr",
     "output_type": "stream",
     "text": [
      "100%|██████████| 79/79 [00:02<00:00, 26.50it/s]\n"
     ]
    },
    {
     "name": "stdout",
     "output_type": "stream",
     "text": [
      "Epoch [12/300], Val loss: 124.11478400230408\n",
      "Epoch 12/300 Ends, Time: 61.64771604537964\n",
      "-------------\n",
      "Epoch 13/300 starts\n"
     ]
    },
    {
     "name": "stderr",
     "output_type": "stream",
     "text": [
      "100%|██████████| 391/391 [01:01<00:00,  6.40it/s]\n"
     ]
    },
    {
     "name": "stdout",
     "output_type": "stream",
     "text": [
      "Epoch [13/300], Train loss: 603.6794677972794\n"
     ]
    },
    {
     "name": "stderr",
     "output_type": "stream",
     "text": [
      "100%|██████████| 79/79 [00:03<00:00, 25.92it/s]\n"
     ]
    },
    {
     "name": "stdout",
     "output_type": "stream",
     "text": [
      "Epoch [13/300], Val loss: 119.99732637405396\n",
      "Epoch 13/300 Ends, Time: 64.18921422958374\n",
      "-------------\n",
      "Epoch 14/300 starts\n"
     ]
    },
    {
     "name": "stderr",
     "output_type": "stream",
     "text": [
      "100%|██████████| 391/391 [00:59<00:00,  6.55it/s]\n"
     ]
    },
    {
     "name": "stdout",
     "output_type": "stream",
     "text": [
      "Epoch [14/300], Train loss: 602.8455647230148\n"
     ]
    },
    {
     "name": "stderr",
     "output_type": "stream",
     "text": [
      "100%|██████████| 79/79 [00:03<00:00, 25.45it/s]\n"
     ]
    },
    {
     "name": "stdout",
     "output_type": "stream",
     "text": [
      "Epoch [14/300], Val loss: 120.84914803504944\n",
      "Epoch 14/300 Ends, Time: 62.76603984832764\n",
      "-------------\n",
      "Epoch 15/300 starts\n"
     ]
    },
    {
     "name": "stderr",
     "output_type": "stream",
     "text": [
      "100%|██████████| 391/391 [00:59<00:00,  6.61it/s]\n"
     ]
    },
    {
     "name": "stdout",
     "output_type": "stream",
     "text": [
      "Epoch [15/300], Train loss: 598.1858370304108\n"
     ]
    },
    {
     "name": "stderr",
     "output_type": "stream",
     "text": [
      "100%|██████████| 79/79 [00:02<00:00, 27.00it/s]\n"
     ]
    },
    {
     "name": "stdout",
     "output_type": "stream",
     "text": [
      "Epoch [15/300], Val loss: 120.95217406749725\n",
      "Epoch 15/300 Ends, Time: 62.11302876472473\n",
      "-------------\n",
      "Epoch 16/300 starts\n"
     ]
    },
    {
     "name": "stderr",
     "output_type": "stream",
     "text": [
      "100%|██████████| 391/391 [00:56<00:00,  6.93it/s]\n"
     ]
    },
    {
     "name": "stdout",
     "output_type": "stream",
     "text": [
      "Epoch [16/300], Train loss: 591.3352950811386\n"
     ]
    },
    {
     "name": "stderr",
     "output_type": "stream",
     "text": [
      "100%|██████████| 79/79 [00:02<00:00, 30.29it/s]\n"
     ]
    },
    {
     "name": "stdout",
     "output_type": "stream",
     "text": [
      "Epoch [16/300], Val loss: 120.14438915252686\n",
      "Epoch 16/300 Ends, Time: 59.0579137802124\n",
      "-------------\n",
      "Epoch 17/300 starts\n"
     ]
    },
    {
     "name": "stderr",
     "output_type": "stream",
     "text": [
      "100%|██████████| 391/391 [00:58<00:00,  6.67it/s]\n"
     ]
    },
    {
     "name": "stdout",
     "output_type": "stream",
     "text": [
      "Epoch [17/300], Train loss: 588.8078806400299\n"
     ]
    },
    {
     "name": "stderr",
     "output_type": "stream",
     "text": [
      "100%|██████████| 79/79 [00:02<00:00, 27.68it/s]\n"
     ]
    },
    {
     "name": "stdout",
     "output_type": "stream",
     "text": [
      "Epoch [17/300], Val loss: 120.44617128372192\n",
      "Epoch 17/300 Ends, Time: 61.478862047195435\n",
      "-------------\n",
      "Epoch 18/300 starts\n"
     ]
    },
    {
     "name": "stderr",
     "output_type": "stream",
     "text": [
      "100%|██████████| 391/391 [00:58<00:00,  6.66it/s]\n"
     ]
    },
    {
     "name": "stdout",
     "output_type": "stream",
     "text": [
      "Epoch [18/300], Train loss: 592.2182658910751\n"
     ]
    },
    {
     "name": "stderr",
     "output_type": "stream",
     "text": [
      "100%|██████████| 79/79 [00:02<00:00, 28.25it/s]\n"
     ]
    },
    {
     "name": "stdout",
     "output_type": "stream",
     "text": [
      "Epoch [18/300], Val loss: 119.93128037452698\n",
      "Epoch 18/300 Ends, Time: 61.52337694168091\n",
      "-------------\n",
      "Epoch 19/300 starts\n"
     ]
    },
    {
     "name": "stderr",
     "output_type": "stream",
     "text": [
      "100%|██████████| 391/391 [00:57<00:00,  6.78it/s]\n"
     ]
    },
    {
     "name": "stdout",
     "output_type": "stream",
     "text": [
      "Epoch [19/300], Train loss: 585.7607650756836\n"
     ]
    },
    {
     "name": "stderr",
     "output_type": "stream",
     "text": [
      "100%|██████████| 79/79 [00:02<00:00, 28.23it/s]\n"
     ]
    },
    {
     "name": "stdout",
     "output_type": "stream",
     "text": [
      "Epoch [19/300], Val loss: 121.16716015338898\n",
      "Epoch 19/300 Ends, Time: 60.43362307548523\n",
      "-------------\n",
      "Epoch 20/300 starts\n"
     ]
    },
    {
     "name": "stderr",
     "output_type": "stream",
     "text": [
      "100%|██████████| 391/391 [00:56<00:00,  6.95it/s]\n"
     ]
    },
    {
     "name": "stdout",
     "output_type": "stream",
     "text": [
      "Epoch [20/300], Train loss: 584.9514476060867\n"
     ]
    },
    {
     "name": "stderr",
     "output_type": "stream",
     "text": [
      "100%|██████████| 79/79 [00:02<00:00, 28.31it/s]\n"
     ]
    },
    {
     "name": "stdout",
     "output_type": "stream",
     "text": [
      "Epoch [20/300], Val loss: 121.00670182704926\n",
      "Epoch 20/300 Ends, Time: 59.051323890686035\n",
      "-------------\n",
      "Epoch 21/300 starts\n"
     ]
    },
    {
     "name": "stderr",
     "output_type": "stream",
     "text": [
      "100%|██████████| 391/391 [00:56<00:00,  6.91it/s]\n"
     ]
    },
    {
     "name": "stdout",
     "output_type": "stream",
     "text": [
      "Epoch [21/300], Train loss: 580.3884108066559\n"
     ]
    },
    {
     "name": "stderr",
     "output_type": "stream",
     "text": [
      "100%|██████████| 79/79 [00:02<00:00, 27.51it/s]\n"
     ]
    },
    {
     "name": "stdout",
     "output_type": "stream",
     "text": [
      "Epoch [21/300], Val loss: 120.5503602027893\n",
      "Epoch 21/300 Ends, Time: 59.41948413848877\n",
      "-------------\n",
      "Epoch 22/300 starts\n"
     ]
    },
    {
     "name": "stderr",
     "output_type": "stream",
     "text": [
      "100%|██████████| 391/391 [00:54<00:00,  7.12it/s]\n"
     ]
    },
    {
     "name": "stdout",
     "output_type": "stream",
     "text": [
      "Epoch [22/300], Train loss: 578.953507900238\n"
     ]
    },
    {
     "name": "stderr",
     "output_type": "stream",
     "text": [
      "100%|██████████| 79/79 [00:02<00:00, 29.15it/s]\n"
     ]
    },
    {
     "name": "stdout",
     "output_type": "stream",
     "text": [
      "Epoch [22/300], Val loss: 117.47660160064697\n",
      "Epoch 22/300 Ends, Time: 57.599183082580566\n",
      "-------------\n",
      "Epoch 23/300 starts\n"
     ]
    },
    {
     "name": "stderr",
     "output_type": "stream",
     "text": [
      "100%|██████████| 391/391 [00:54<00:00,  7.16it/s]\n"
     ]
    },
    {
     "name": "stdout",
     "output_type": "stream",
     "text": [
      "Epoch [23/300], Train loss: 577.7461673021317\n"
     ]
    },
    {
     "name": "stderr",
     "output_type": "stream",
     "text": [
      "100%|██████████| 79/79 [00:03<00:00, 26.04it/s]\n"
     ]
    },
    {
     "name": "stdout",
     "output_type": "stream",
     "text": [
      "Epoch [23/300], Val loss: 119.82724487781525\n",
      "Epoch 23/300 Ends, Time: 57.64483118057251\n",
      "-------------\n",
      "Epoch 24/300 starts\n"
     ]
    },
    {
     "name": "stderr",
     "output_type": "stream",
     "text": [
      "100%|██████████| 391/391 [00:57<00:00,  6.84it/s]\n"
     ]
    },
    {
     "name": "stdout",
     "output_type": "stream",
     "text": [
      "Epoch [24/300], Train loss: 574.2764847278595\n"
     ]
    },
    {
     "name": "stderr",
     "output_type": "stream",
     "text": [
      "100%|██████████| 79/79 [00:02<00:00, 28.51it/s]\n"
     ]
    },
    {
     "name": "stdout",
     "output_type": "stream",
     "text": [
      "Epoch [24/300], Val loss: 118.2682535648346\n",
      "Epoch 24/300 Ends, Time: 59.95587086677551\n",
      "-------------\n",
      "Epoch 25/300 starts\n"
     ]
    },
    {
     "name": "stderr",
     "output_type": "stream",
     "text": [
      "100%|██████████| 391/391 [00:55<00:00,  7.01it/s]\n"
     ]
    },
    {
     "name": "stdout",
     "output_type": "stream",
     "text": [
      "Epoch [25/300], Train loss: 576.1871732473373\n"
     ]
    },
    {
     "name": "stderr",
     "output_type": "stream",
     "text": [
      "100%|██████████| 79/79 [00:02<00:00, 28.31it/s]\n"
     ]
    },
    {
     "name": "stdout",
     "output_type": "stream",
     "text": [
      "Epoch [25/300], Val loss: 120.24900579452515\n",
      "Epoch 25/300 Ends, Time: 58.59899282455444\n",
      "-------------\n",
      "Epoch 26/300 starts\n"
     ]
    },
    {
     "name": "stderr",
     "output_type": "stream",
     "text": [
      "100%|██████████| 391/391 [00:55<00:00,  7.03it/s]\n"
     ]
    },
    {
     "name": "stdout",
     "output_type": "stream",
     "text": [
      "Epoch [26/300], Train loss: 570.1541248559952\n"
     ]
    },
    {
     "name": "stderr",
     "output_type": "stream",
     "text": [
      "100%|██████████| 79/79 [00:02<00:00, 28.54it/s]\n"
     ]
    },
    {
     "name": "stdout",
     "output_type": "stream",
     "text": [
      "Epoch [26/300], Val loss: 119.12325739860535\n",
      "Epoch 26/300 Ends, Time: 58.366795778274536\n",
      "-------------\n",
      "Epoch 27/300 starts\n"
     ]
    },
    {
     "name": "stderr",
     "output_type": "stream",
     "text": [
      "100%|██████████| 391/391 [00:56<00:00,  6.87it/s]\n"
     ]
    },
    {
     "name": "stdout",
     "output_type": "stream",
     "text": [
      "Epoch [27/300], Train loss: 567.4490612745285\n"
     ]
    },
    {
     "name": "stderr",
     "output_type": "stream",
     "text": [
      "100%|██████████| 79/79 [00:02<00:00, 28.45it/s]\n"
     ]
    },
    {
     "name": "stdout",
     "output_type": "stream",
     "text": [
      "Epoch [27/300], Val loss: 116.70177519321442\n",
      "Epoch 27/300 Ends, Time: 59.70286703109741\n",
      "-------------\n",
      "Epoch 28/300 starts\n"
     ]
    },
    {
     "name": "stderr",
     "output_type": "stream",
     "text": [
      "100%|██████████| 391/391 [00:55<00:00,  7.04it/s]\n"
     ]
    },
    {
     "name": "stdout",
     "output_type": "stream",
     "text": [
      "Epoch [28/300], Train loss: 564.1840304136276\n"
     ]
    },
    {
     "name": "stderr",
     "output_type": "stream",
     "text": [
      "100%|██████████| 79/79 [00:02<00:00, 30.80it/s]\n"
     ]
    },
    {
     "name": "stdout",
     "output_type": "stream",
     "text": [
      "Epoch [28/300], Val loss: 119.10235834121704\n",
      "Epoch 28/300 Ends, Time: 58.068294048309326\n",
      "-------------\n",
      "Epoch 29/300 starts\n"
     ]
    },
    {
     "name": "stderr",
     "output_type": "stream",
     "text": [
      "100%|██████████| 391/391 [00:52<00:00,  7.38it/s]\n"
     ]
    },
    {
     "name": "stdout",
     "output_type": "stream",
     "text": [
      "Epoch [29/300], Train loss: 560.9121822118759\n"
     ]
    },
    {
     "name": "stderr",
     "output_type": "stream",
     "text": [
      "100%|██████████| 79/79 [00:02<00:00, 30.61it/s]\n"
     ]
    },
    {
     "name": "stdout",
     "output_type": "stream",
     "text": [
      "Epoch [29/300], Val loss: 114.77855134010315\n",
      "Epoch 29/300 Ends, Time: 55.58260989189148\n",
      "-------------\n",
      "Epoch 30/300 starts\n"
     ]
    },
    {
     "name": "stderr",
     "output_type": "stream",
     "text": [
      "100%|██████████| 391/391 [00:53<00:00,  7.32it/s]\n"
     ]
    },
    {
     "name": "stdout",
     "output_type": "stream",
     "text": [
      "Epoch [30/300], Train loss: 559.5131989717484\n"
     ]
    },
    {
     "name": "stderr",
     "output_type": "stream",
     "text": [
      "100%|██████████| 79/79 [00:02<00:00, 30.67it/s]\n"
     ]
    },
    {
     "name": "stdout",
     "output_type": "stream",
     "text": [
      "Epoch [30/300], Val loss: 117.3535783290863\n",
      "Epoch 30/300 Ends, Time: 56.01653504371643\n",
      "-------------\n",
      "Epoch 31/300 starts\n"
     ]
    },
    {
     "name": "stderr",
     "output_type": "stream",
     "text": [
      "100%|██████████| 391/391 [00:53<00:00,  7.34it/s]\n"
     ]
    },
    {
     "name": "stdout",
     "output_type": "stream",
     "text": [
      "Epoch [31/300], Train loss: 556.0397397279739\n"
     ]
    },
    {
     "name": "stderr",
     "output_type": "stream",
     "text": [
      "100%|██████████| 79/79 [00:02<00:00, 30.77it/s]\n"
     ]
    },
    {
     "name": "stdout",
     "output_type": "stream",
     "text": [
      "Epoch [31/300], Val loss: 115.87152409553528\n",
      "Epoch 31/300 Ends, Time: 55.86208701133728\n",
      "-------------\n",
      "Epoch 32/300 starts\n"
     ]
    },
    {
     "name": "stderr",
     "output_type": "stream",
     "text": [
      "100%|██████████| 391/391 [00:53<00:00,  7.37it/s]\n"
     ]
    },
    {
     "name": "stdout",
     "output_type": "stream",
     "text": [
      "Epoch [32/300], Train loss: 556.1332329511642\n"
     ]
    },
    {
     "name": "stderr",
     "output_type": "stream",
     "text": [
      "100%|██████████| 79/79 [00:02<00:00, 29.10it/s]\n"
     ]
    },
    {
     "name": "stdout",
     "output_type": "stream",
     "text": [
      "Epoch [32/300], Val loss: 115.53402364253998\n",
      "Epoch 32/300 Ends, Time: 55.77305507659912\n",
      "-------------\n",
      "Epoch 33/300 starts\n"
     ]
    },
    {
     "name": "stderr",
     "output_type": "stream",
     "text": [
      "100%|██████████| 391/391 [00:53<00:00,  7.34it/s]\n"
     ]
    },
    {
     "name": "stdout",
     "output_type": "stream",
     "text": [
      "Epoch [33/300], Train loss: 553.0307283401489\n"
     ]
    },
    {
     "name": "stderr",
     "output_type": "stream",
     "text": [
      "100%|██████████| 79/79 [00:02<00:00, 30.96it/s]\n"
     ]
    },
    {
     "name": "stdout",
     "output_type": "stream",
     "text": [
      "Epoch [33/300], Val loss: 115.7447190284729\n",
      "Epoch 33/300 Ends, Time: 55.807164907455444\n",
      "-------------\n",
      "Epoch 34/300 starts\n"
     ]
    },
    {
     "name": "stderr",
     "output_type": "stream",
     "text": [
      "100%|██████████| 391/391 [00:53<00:00,  7.35it/s]\n"
     ]
    },
    {
     "name": "stdout",
     "output_type": "stream",
     "text": [
      "Epoch [34/300], Train loss: 551.2527147531509\n"
     ]
    },
    {
     "name": "stderr",
     "output_type": "stream",
     "text": [
      "100%|██████████| 79/79 [00:02<00:00, 30.71it/s]\n"
     ]
    },
    {
     "name": "stdout",
     "output_type": "stream",
     "text": [
      "Epoch [34/300], Val loss: 116.00274300575256\n",
      "Epoch 34/300 Ends, Time: 55.7772319316864\n",
      "-------------\n",
      "Epoch 35/300 starts\n"
     ]
    },
    {
     "name": "stderr",
     "output_type": "stream",
     "text": [
      "100%|██████████| 391/391 [00:52<00:00,  7.45it/s]\n"
     ]
    },
    {
     "name": "stdout",
     "output_type": "stream",
     "text": [
      "Epoch [35/300], Train loss: 548.0564403533936\n"
     ]
    },
    {
     "name": "stderr",
     "output_type": "stream",
     "text": [
      "100%|██████████| 79/79 [00:02<00:00, 30.87it/s]\n"
     ]
    },
    {
     "name": "stdout",
     "output_type": "stream",
     "text": [
      "Epoch [35/300], Val loss: 114.09361982345581\n",
      "Epoch 35/300 Ends, Time: 55.05205678939819\n",
      "-------------\n",
      "Epoch 36/300 starts\n"
     ]
    },
    {
     "name": "stderr",
     "output_type": "stream",
     "text": [
      "100%|██████████| 391/391 [00:52<00:00,  7.44it/s]\n"
     ]
    },
    {
     "name": "stdout",
     "output_type": "stream",
     "text": [
      "Epoch [36/300], Train loss: 546.8579038381577\n"
     ]
    },
    {
     "name": "stderr",
     "output_type": "stream",
     "text": [
      "100%|██████████| 79/79 [00:02<00:00, 31.25it/s]\n"
     ]
    },
    {
     "name": "stdout",
     "output_type": "stream",
     "text": [
      "Epoch [36/300], Val loss: 115.05756115913391\n",
      "Epoch 36/300 Ends, Time: 55.06638813018799\n",
      "-------------\n",
      "Epoch 37/300 starts\n"
     ]
    },
    {
     "name": "stderr",
     "output_type": "stream",
     "text": [
      "100%|██████████| 391/391 [00:52<00:00,  7.45it/s]\n"
     ]
    },
    {
     "name": "stdout",
     "output_type": "stream",
     "text": [
      "Epoch [37/300], Train loss: 544.5874434709549\n"
     ]
    },
    {
     "name": "stderr",
     "output_type": "stream",
     "text": [
      "100%|██████████| 79/79 [00:02<00:00, 31.29it/s]\n"
     ]
    },
    {
     "name": "stdout",
     "output_type": "stream",
     "text": [
      "Epoch [37/300], Val loss: 114.53137850761414\n",
      "Epoch 37/300 Ends, Time: 55.00359010696411\n",
      "-------------\n",
      "Epoch 38/300 starts\n"
     ]
    },
    {
     "name": "stderr",
     "output_type": "stream",
     "text": [
      "100%|██████████| 391/391 [00:52<00:00,  7.46it/s]\n"
     ]
    },
    {
     "name": "stdout",
     "output_type": "stream",
     "text": [
      "Epoch [38/300], Train loss: 541.5403215885162\n"
     ]
    },
    {
     "name": "stderr",
     "output_type": "stream",
     "text": [
      "100%|██████████| 79/79 [00:02<00:00, 31.13it/s]\n"
     ]
    },
    {
     "name": "stdout",
     "output_type": "stream",
     "text": [
      "Epoch [38/300], Val loss: 115.10317575931549\n",
      "Epoch 38/300 Ends, Time: 54.9710590839386\n",
      "-------------\n",
      "Epoch 39/300 starts\n"
     ]
    },
    {
     "name": "stderr",
     "output_type": "stream",
     "text": [
      "100%|██████████| 391/391 [00:52<00:00,  7.45it/s]\n"
     ]
    },
    {
     "name": "stdout",
     "output_type": "stream",
     "text": [
      "Epoch [39/300], Train loss: 540.561604142189\n"
     ]
    },
    {
     "name": "stderr",
     "output_type": "stream",
     "text": [
      "100%|██████████| 79/79 [00:02<00:00, 30.96it/s]\n"
     ]
    },
    {
     "name": "stdout",
     "output_type": "stream",
     "text": [
      "Epoch [39/300], Val loss: 113.52098023891449\n",
      "Epoch 39/300 Ends, Time: 55.064754009246826\n",
      "-------------\n",
      "Epoch 40/300 starts\n"
     ]
    },
    {
     "name": "stderr",
     "output_type": "stream",
     "text": [
      "100%|██████████| 391/391 [00:52<00:00,  7.45it/s]\n"
     ]
    },
    {
     "name": "stdout",
     "output_type": "stream",
     "text": [
      "Epoch [40/300], Train loss: 538.7290577888489\n"
     ]
    },
    {
     "name": "stderr",
     "output_type": "stream",
     "text": [
      "100%|██████████| 79/79 [00:02<00:00, 30.81it/s]\n"
     ]
    },
    {
     "name": "stdout",
     "output_type": "stream",
     "text": [
      "Epoch [40/300], Val loss: 114.102956533432\n",
      "Epoch 40/300 Ends, Time: 55.064286947250366\n",
      "-------------\n",
      "Epoch 41/300 starts\n"
     ]
    },
    {
     "name": "stderr",
     "output_type": "stream",
     "text": [
      "100%|██████████| 391/391 [00:52<00:00,  7.44it/s]\n"
     ]
    },
    {
     "name": "stdout",
     "output_type": "stream",
     "text": [
      "Epoch [41/300], Train loss: 536.1221903562546\n"
     ]
    },
    {
     "name": "stderr",
     "output_type": "stream",
     "text": [
      "100%|██████████| 79/79 [00:02<00:00, 31.20it/s]\n"
     ]
    },
    {
     "name": "stdout",
     "output_type": "stream",
     "text": [
      "Epoch [41/300], Val loss: 114.18558347225189\n",
      "Epoch 41/300 Ends, Time: 55.07642889022827\n",
      "-------------\n",
      "Epoch 42/300 starts\n"
     ]
    },
    {
     "name": "stderr",
     "output_type": "stream",
     "text": [
      "100%|██████████| 391/391 [00:52<00:00,  7.45it/s]\n"
     ]
    },
    {
     "name": "stdout",
     "output_type": "stream",
     "text": [
      "Epoch [42/300], Train loss: 537.1714609861374\n"
     ]
    },
    {
     "name": "stderr",
     "output_type": "stream",
     "text": [
      "100%|██████████| 79/79 [00:02<00:00, 31.25it/s]\n"
     ]
    },
    {
     "name": "stdout",
     "output_type": "stream",
     "text": [
      "Epoch [42/300], Val loss: 116.22245001792908\n",
      "Epoch 42/300 Ends, Time: 55.03363108634949\n",
      "-------------\n",
      "Epoch 43/300 starts\n"
     ]
    },
    {
     "name": "stderr",
     "output_type": "stream",
     "text": [
      "100%|██████████| 391/391 [00:52<00:00,  7.42it/s]\n"
     ]
    },
    {
     "name": "stdout",
     "output_type": "stream",
     "text": [
      "Epoch [43/300], Train loss: 533.0922123193741\n"
     ]
    },
    {
     "name": "stderr",
     "output_type": "stream",
     "text": [
      "100%|██████████| 79/79 [00:02<00:00, 31.04it/s]\n"
     ]
    },
    {
     "name": "stdout",
     "output_type": "stream",
     "text": [
      "Epoch [43/300], Val loss: 115.63388586044312\n",
      "Epoch 43/300 Ends, Time: 55.23322415351868\n",
      "-------------\n",
      "Epoch 44/300 starts\n"
     ]
    },
    {
     "name": "stderr",
     "output_type": "stream",
     "text": [
      "100%|██████████| 391/391 [00:52<00:00,  7.43it/s]\n"
     ]
    },
    {
     "name": "stdout",
     "output_type": "stream",
     "text": [
      "Epoch [44/300], Train loss: 530.6403107643127\n"
     ]
    },
    {
     "name": "stderr",
     "output_type": "stream",
     "text": [
      "100%|██████████| 79/79 [00:02<00:00, 31.36it/s]\n"
     ]
    },
    {
     "name": "stdout",
     "output_type": "stream",
     "text": [
      "Epoch [44/300], Val loss: 111.93957829475403\n",
      "Epoch 44/300 Ends, Time: 55.16889715194702\n",
      "-------------\n",
      "Epoch 45/300 starts\n"
     ]
    },
    {
     "name": "stderr",
     "output_type": "stream",
     "text": [
      "100%|██████████| 391/391 [00:52<00:00,  7.41it/s]\n"
     ]
    },
    {
     "name": "stdout",
     "output_type": "stream",
     "text": [
      "Epoch [45/300], Train loss: 529.1703169345856\n"
     ]
    },
    {
     "name": "stderr",
     "output_type": "stream",
     "text": [
      "100%|██████████| 79/79 [00:02<00:00, 30.69it/s]\n"
     ]
    },
    {
     "name": "stdout",
     "output_type": "stream",
     "text": [
      "Epoch [45/300], Val loss: 113.72748947143555\n",
      "Epoch 45/300 Ends, Time: 55.3744261264801\n",
      "-------------\n",
      "Epoch 46/300 starts\n"
     ]
    },
    {
     "name": "stderr",
     "output_type": "stream",
     "text": [
      "100%|██████████| 391/391 [00:52<00:00,  7.51it/s]\n"
     ]
    },
    {
     "name": "stdout",
     "output_type": "stream",
     "text": [
      "Epoch [46/300], Train loss: 528.7233875989914\n"
     ]
    },
    {
     "name": "stderr",
     "output_type": "stream",
     "text": [
      "100%|██████████| 79/79 [00:02<00:00, 30.94it/s]\n"
     ]
    },
    {
     "name": "stdout",
     "output_type": "stream",
     "text": [
      "Epoch [46/300], Val loss: 115.65968573093414\n",
      "Epoch 46/300 Ends, Time: 54.59506392478943\n",
      "-------------\n",
      "Epoch 47/300 starts\n"
     ]
    },
    {
     "name": "stderr",
     "output_type": "stream",
     "text": [
      "100%|██████████| 391/391 [00:51<00:00,  7.57it/s]\n"
     ]
    },
    {
     "name": "stdout",
     "output_type": "stream",
     "text": [
      "Epoch [47/300], Train loss: 526.854360461235\n"
     ]
    },
    {
     "name": "stderr",
     "output_type": "stream",
     "text": [
      "100%|██████████| 79/79 [00:02<00:00, 31.32it/s]\n"
     ]
    },
    {
     "name": "stdout",
     "output_type": "stream",
     "text": [
      "Epoch [47/300], Val loss: 117.99741458892822\n",
      "Epoch 47/300 Ends, Time: 54.1679790019989\n",
      "-------------\n",
      "Epoch 48/300 starts\n"
     ]
    },
    {
     "name": "stderr",
     "output_type": "stream",
     "text": [
      "100%|██████████| 391/391 [00:51<00:00,  7.55it/s]\n"
     ]
    },
    {
     "name": "stdout",
     "output_type": "stream",
     "text": [
      "Epoch [48/300], Train loss: 526.9436964988708\n"
     ]
    },
    {
     "name": "stderr",
     "output_type": "stream",
     "text": [
      "100%|██████████| 79/79 [00:02<00:00, 29.69it/s]\n"
     ]
    },
    {
     "name": "stdout",
     "output_type": "stream",
     "text": [
      "Epoch [48/300], Val loss: 114.7905900478363\n",
      "Epoch 48/300 Ends, Time: 54.4574658870697\n",
      "-------------\n",
      "Epoch 49/300 starts\n"
     ]
    },
    {
     "name": "stderr",
     "output_type": "stream",
     "text": [
      "100%|██████████| 391/391 [00:57<00:00,  6.83it/s]\n"
     ]
    },
    {
     "name": "stdout",
     "output_type": "stream",
     "text": [
      "Epoch [49/300], Train loss: 520.6852222681046\n"
     ]
    },
    {
     "name": "stderr",
     "output_type": "stream",
     "text": [
      "100%|██████████| 79/79 [00:02<00:00, 26.38it/s]\n"
     ]
    },
    {
     "name": "stdout",
     "output_type": "stream",
     "text": [
      "Epoch [49/300], Val loss: 113.21664726734161\n",
      "Epoch 49/300 Ends, Time: 60.267860889434814\n",
      "-------------\n",
      "Epoch 50/300 starts\n"
     ]
    },
    {
     "name": "stderr",
     "output_type": "stream",
     "text": [
      "100%|██████████| 391/391 [00:55<00:00,  7.04it/s]\n"
     ]
    },
    {
     "name": "stdout",
     "output_type": "stream",
     "text": [
      "Epoch [50/300], Train loss: 517.3844366073608\n"
     ]
    },
    {
     "name": "stderr",
     "output_type": "stream",
     "text": [
      "100%|██████████| 79/79 [00:02<00:00, 28.21it/s]\n"
     ]
    },
    {
     "name": "stdout",
     "output_type": "stream",
     "text": [
      "Epoch [50/300], Val loss: 111.47745108604431\n",
      "Epoch 50/300 Ends, Time: 58.33622598648071\n",
      "-------------\n",
      "Epoch 51/300 starts\n"
     ]
    },
    {
     "name": "stderr",
     "output_type": "stream",
     "text": [
      "100%|██████████| 391/391 [00:55<00:00,  7.03it/s]\n"
     ]
    },
    {
     "name": "stdout",
     "output_type": "stream",
     "text": [
      "Epoch [51/300], Train loss: 517.3535816669464\n"
     ]
    },
    {
     "name": "stderr",
     "output_type": "stream",
     "text": [
      "100%|██████████| 79/79 [00:02<00:00, 28.39it/s]\n"
     ]
    },
    {
     "name": "stdout",
     "output_type": "stream",
     "text": [
      "Epoch [51/300], Val loss: 111.77766287326813\n",
      "Epoch 51/300 Ends, Time: 58.429587841033936\n",
      "-------------\n",
      "Epoch 52/300 starts\n"
     ]
    },
    {
     "name": "stderr",
     "output_type": "stream",
     "text": [
      "100%|██████████| 391/391 [00:55<00:00,  7.02it/s]\n"
     ]
    },
    {
     "name": "stdout",
     "output_type": "stream",
     "text": [
      "Epoch [52/300], Train loss: 511.6187778711319\n"
     ]
    },
    {
     "name": "stderr",
     "output_type": "stream",
     "text": [
      "100%|██████████| 79/79 [00:02<00:00, 28.97it/s]\n"
     ]
    },
    {
     "name": "stdout",
     "output_type": "stream",
     "text": [
      "Epoch [52/300], Val loss: 111.13899683952332\n",
      "Epoch 52/300 Ends, Time: 58.39536213874817\n",
      "-------------\n",
      "Epoch 53/300 starts\n"
     ]
    },
    {
     "name": "stderr",
     "output_type": "stream",
     "text": [
      "100%|██████████| 391/391 [00:55<00:00,  7.02it/s]\n"
     ]
    },
    {
     "name": "stdout",
     "output_type": "stream",
     "text": [
      "Epoch [53/300], Train loss: 512.6323719024658\n"
     ]
    },
    {
     "name": "stderr",
     "output_type": "stream",
     "text": [
      "100%|██████████| 79/79 [00:02<00:00, 29.30it/s]\n"
     ]
    },
    {
     "name": "stdout",
     "output_type": "stream",
     "text": [
      "Epoch [53/300], Val loss: 113.23573696613312\n",
      "Epoch 53/300 Ends, Time: 58.41760587692261\n",
      "-------------\n",
      "Epoch 54/300 starts\n"
     ]
    },
    {
     "name": "stderr",
     "output_type": "stream",
     "text": [
      "100%|██████████| 391/391 [00:55<00:00,  7.10it/s]\n"
     ]
    },
    {
     "name": "stdout",
     "output_type": "stream",
     "text": [
      "Epoch [54/300], Train loss: 511.98980927467346\n"
     ]
    },
    {
     "name": "stderr",
     "output_type": "stream",
     "text": [
      "100%|██████████| 79/79 [00:02<00:00, 29.23it/s]\n"
     ]
    },
    {
     "name": "stdout",
     "output_type": "stream",
     "text": [
      "Epoch [54/300], Val loss: 110.22345042228699\n",
      "Epoch 54/300 Ends, Time: 57.770755767822266\n",
      "-------------\n",
      "Epoch 55/300 starts\n"
     ]
    },
    {
     "name": "stderr",
     "output_type": "stream",
     "text": [
      "100%|██████████| 391/391 [00:58<00:00,  6.73it/s]\n"
     ]
    },
    {
     "name": "stdout",
     "output_type": "stream",
     "text": [
      "Epoch [55/300], Train loss: 510.26996076107025\n"
     ]
    },
    {
     "name": "stderr",
     "output_type": "stream",
     "text": [
      "100%|██████████| 79/79 [00:02<00:00, 27.50it/s]\n"
     ]
    },
    {
     "name": "stdout",
     "output_type": "stream",
     "text": [
      "Epoch [55/300], Val loss: 113.54100978374481\n",
      "Epoch 55/300 Ends, Time: 60.99286699295044\n",
      "-------------\n",
      "Epoch 56/300 starts\n"
     ]
    },
    {
     "name": "stderr",
     "output_type": "stream",
     "text": [
      "100%|██████████| 391/391 [00:56<00:00,  6.91it/s]\n"
     ]
    },
    {
     "name": "stdout",
     "output_type": "stream",
     "text": [
      "Epoch [56/300], Train loss: 505.33506894111633\n"
     ]
    },
    {
     "name": "stderr",
     "output_type": "stream",
     "text": [
      "100%|██████████| 79/79 [00:02<00:00, 27.04it/s]\n"
     ]
    },
    {
     "name": "stdout",
     "output_type": "stream",
     "text": [
      "Epoch [56/300], Val loss: 110.72806358337402\n",
      "Epoch 56/300 Ends, Time: 59.49659204483032\n",
      "-------------\n",
      "Epoch 57/300 starts\n"
     ]
    },
    {
     "name": "stderr",
     "output_type": "stream",
     "text": [
      "100%|██████████| 391/391 [00:57<00:00,  6.81it/s]\n"
     ]
    },
    {
     "name": "stdout",
     "output_type": "stream",
     "text": [
      "Epoch [57/300], Train loss: 500.96848487854004\n"
     ]
    },
    {
     "name": "stderr",
     "output_type": "stream",
     "text": [
      "100%|██████████| 79/79 [00:02<00:00, 28.54it/s]\n"
     ]
    },
    {
     "name": "stdout",
     "output_type": "stream",
     "text": [
      "Epoch [57/300], Val loss: 111.64956331253052\n",
      "Epoch 57/300 Ends, Time: 60.17700004577637\n",
      "-------------\n",
      "Epoch 58/300 starts\n"
     ]
    },
    {
     "name": "stderr",
     "output_type": "stream",
     "text": [
      "100%|██████████| 391/391 [00:56<00:00,  6.86it/s]\n"
     ]
    },
    {
     "name": "stdout",
     "output_type": "stream",
     "text": [
      "Epoch [58/300], Train loss: 502.1399921178818\n"
     ]
    },
    {
     "name": "stderr",
     "output_type": "stream",
     "text": [
      "100%|██████████| 79/79 [00:02<00:00, 27.57it/s]\n"
     ]
    },
    {
     "name": "stdout",
     "output_type": "stream",
     "text": [
      "Epoch [58/300], Val loss: 110.93356013298035\n",
      "Epoch 58/300 Ends, Time: 59.85748600959778\n",
      "-------------\n",
      "Epoch 59/300 starts\n"
     ]
    },
    {
     "name": "stderr",
     "output_type": "stream",
     "text": [
      "100%|██████████| 391/391 [00:56<00:00,  6.90it/s]\n"
     ]
    },
    {
     "name": "stdout",
     "output_type": "stream",
     "text": [
      "Epoch [59/300], Train loss: 499.76336777210236\n"
     ]
    },
    {
     "name": "stderr",
     "output_type": "stream",
     "text": [
      "100%|██████████| 79/79 [00:02<00:00, 28.25it/s]\n"
     ]
    },
    {
     "name": "stdout",
     "output_type": "stream",
     "text": [
      "Epoch [59/300], Val loss: 109.99165487289429\n",
      "Epoch 59/300 Ends, Time: 59.463305950164795\n",
      "-------------\n",
      "Epoch 60/300 starts\n"
     ]
    },
    {
     "name": "stderr",
     "output_type": "stream",
     "text": [
      "100%|██████████| 391/391 [00:56<00:00,  6.95it/s]\n"
     ]
    },
    {
     "name": "stdout",
     "output_type": "stream",
     "text": [
      "Epoch [60/300], Train loss: 494.4031701683998\n"
     ]
    },
    {
     "name": "stderr",
     "output_type": "stream",
     "text": [
      "100%|██████████| 79/79 [00:02<00:00, 28.46it/s]\n"
     ]
    },
    {
     "name": "stdout",
     "output_type": "stream",
     "text": [
      "Epoch [60/300], Val loss: 109.41864490509033\n",
      "Epoch 60/300 Ends, Time: 59.04987597465515\n",
      "-------------\n",
      "Epoch 61/300 starts\n"
     ]
    },
    {
     "name": "stderr",
     "output_type": "stream",
     "text": [
      "100%|██████████| 391/391 [00:55<00:00,  7.05it/s]\n"
     ]
    },
    {
     "name": "stdout",
     "output_type": "stream",
     "text": [
      "Epoch [61/300], Train loss: 495.1366879940033\n"
     ]
    },
    {
     "name": "stderr",
     "output_type": "stream",
     "text": [
      "100%|██████████| 79/79 [00:02<00:00, 29.39it/s]\n"
     ]
    },
    {
     "name": "stdout",
     "output_type": "stream",
     "text": [
      "Epoch [61/300], Val loss: 111.39035415649414\n",
      "Epoch 61/300 Ends, Time: 58.18954086303711\n",
      "-------------\n",
      "Epoch 62/300 starts\n"
     ]
    },
    {
     "name": "stderr",
     "output_type": "stream",
     "text": [
      " 85%|████████▌ | 334/391 [00:48<00:08,  6.48it/s]"
     ]
    }
   ],
   "source": [
    "num_epochs = 300\n",
    "train(net, train_dataloader, val_dataloader, test_dataloader, num_epochs, optimizer, criterion, device)"
   ]
  },
  {
   "cell_type": "code",
   "execution_count": null,
   "metadata": {},
   "outputs": [
    {
     "data": {
      "image/png": "[encoded data removed]",
      "text/plain": [
       "<Figure size 1000x600 with 2 Axes>"
      ]
     },
     "metadata": {},
     "output_type": "display_data"
    }
   ],
   "source": [
    "import pandas as pd\n",
    "df = pd.read_csv(\"log_output.csv\")\n",
    "train_loss_list = df[\"train_loss\"].tolist()\n",
    "val_loss_list = df[\"val_loss\"].tolist()\n",
    "fig, (ax1, ax2) = plt.subplots(2, 1, figsize=(10, 6), sharex=True)\n",
    "ax1.plot(df[\"epoch\"].tolist(), train_loss_list, label=\"Train loss\")\n",
    "ax1.legend()\n",
    "ax1.set_ylabel(\"Train Loss\")\n",
    "ax2.plot(df[\"epoch\"].tolist(), val_loss_list, label=\"Val loss\",color=\"orange\")\n",
    "ax2.legend()\n",
    "ax2.set_ylabel(\"Validation Loss\")\n",
    "ax2.set_xlabel(\"Epoch\")\n",
    "plt.show()\n"
   ]
  },
  {
   "cell_type": "markdown",
   "metadata": {},
   "source": [
    "## 3. Visualize the attention map"
   ]
  },
  {
   "cell_type": "code",
   "execution_count": null,
   "metadata": {},
   "outputs": [
    {
     "name": "stdout",
     "output_type": "stream",
     "text": [
      "The number of encoder layer: 12\n"
     ]
    }
   ],
   "source": [
    "model = net\n",
    "checkpoint = torch.load(\"weights/ViT_109.pth\")\n",
    "checkpoint_model = checkpoint['model_state_dict']\n",
    "model.load_state_dict(checkpoint_model)\n",
    "attention_weight_list = []\n",
    "print(f\"The number of encoder layer: {len(model.encoder_layer)}\")"
   ]
  },
  {
   "cell_type": "code",
   "execution_count": null,
   "metadata": {},
   "outputs": [
    {
     "name": "stderr",
     "output_type": "stream",
     "text": [
      "Clipping input data to the valid range for imshow with RGB data ([0..1] for floats or [0..255] for integers). Got range [-2.4290657..1.6611518].\n"
     ]
    },
    {
     "data": {
      "image/png": "[encoded data removed]",
      "text/plain": [
       "<Figure size 640x480 with 1 Axes>"
      ]
     },
     "metadata": {},
     "output_type": "display_data"
    }
   ],
   "source": [
    "images = next(iter(train_dataloader))[0]\n",
    "image = images[0]\n",
    "plt.imshow(image.permute(1, 2, 0))\n",
    "plt.show()"
   ]
  },
  {
   "cell_type": "code",
   "execution_count": null,
   "metadata": {},
   "outputs": [],
   "source": [
    "## To extract the attention weight, the image size must be 1*3*32x32\n",
    "image_reshaped = image.reshape(1, 3, 32, 32)"
   ]
  },
  {
   "cell_type": "code",
   "execution_count": null,
   "metadata": {},
   "outputs": [],
   "source": [
    "def extract_attention_weight(model, target, inputs):\n",
    "    feature = None\n",
    "    def forward_hook(module, inputs, output):\n",
    "        global blocks\n",
    "        blocks = output.detach()\n",
    "    handle = target.register_forward_hook(forward_hook)\n",
    "    model.eval()\n",
    "    model.to(\"cpu\")\n",
    "    with torch.no_grad():\n",
    "        model(inputs)\n",
    "    handle.remove()\n",
    "    return blocks"
   ]
  },
  {
   "cell_type": "code",
   "execution_count": null,
   "metadata": {},
   "outputs": [],
   "source": [
    "import numpy as np\n",
    "import torch.nn.functional as F\n",
    "import cv2\n",
    "input_layer = model.input_layer\n",
    "attention_weight_list = []\n",
    "features = extract_attention_weight(model, input_layer, image_reshaped)\n",
    "features.to(\"cpu\").detach().numpy().copy()\n",
    "z = features\n",
    "for encoder_block in net.encoder_layer:\n",
    "    att_layer = encoder_block.multi_head_attention\n",
    "    batch_size, num_patch,_ = z.shape\n",
    "    num_heads = att_layer.num_heads # num_heads = 3\n",
    "    q = att_layer.W_q(z) ## (batch_size, num_patches + 1, embedding_dim)\n",
    "    k = att_layer.W_k(z) ## (batch_size, num_patches + 1, embedding_dim)\n",
    "    v = att_layer.W_v(z) ## (batch_size, num_patches + 1, embedding_dim)\n",
    "    q = q.view(batch_size, num_patch, num_heads, att_layer.head_dim)\n",
    "    k = k.view(batch_size, num_patch, num_heads, att_layer.head_dim)\n",
    "    v = v.view(batch_size, num_patch, num_heads, att_layer.head_dim)\n",
    "    q = q.transpose(1, 2)\n",
    "    k = k.transpose(1, 2)\n",
    "    v = v.transpose(1, 2)\n",
    "    k_T = k.transpose(2, 3)\n",
    "    dot_k_q = (q@k_T)/att_layer.sqrt_dh\n",
    "    ### headで分かれている\n",
    "    attn = F.softmax(dot_k_q, dim=-1)\n",
    "    attention_weight_list.append([attn.to(\"cpu\").detach().numpy().copy()])\n",
    "attention_weight = np.squeeze(np.concatenate(attention_weight_list),axis=1)\n",
    "## Take the average of the attention weight \n",
    "attention_weight_mean_head  = np.mean(attention_weight, axis=1)\n",
    "attention_weight_mean_head.shape\n",
    "## 単位行列の加算\n",
    "attention_weight_mean_head = attention_weight_mean_head + np.eye(attention_weight_mean_head.shape[1])\n",
    "attention_weight_mean_head.shape\n",
    "## 正規化\n",
    "attention_weight_mean_head = attention_weight_mean_head / attention_weight_mean_head.sum(axis=(1,2))[:,np.newaxis,np.newaxis]\n",
    "attention_weight_mean_head.shape\n",
    "## 層方向に乗算\n",
    "v = attention_weight_mean_head[-1]\n",
    "for n in range(1,len(attention_weight_mean_head)):\n",
    "    ## 逆順にかけていく\n",
    "    v = np.matmul(v,attention_weight_mean_head[-1-n])\n",
    "v2 = v[0,1:]\n",
    "initial_shape = int(np.sqrt(v.size))\n",
    "v_square = v.reshape(initial_shape, initial_shape)\n",
    "# Desired final shape\n",
    "final_shape = (14, 14)\n",
    "v_reshaped = cv2.resize(v_square, final_shape, interpolation=cv2.INTER_LINEAR)\n",
    "\n",
    "attention_map  = cv2.resize(v_reshaped/v_reshaped.max(), (image.shape[1],image.shape[2]))[...,np.newaxis]\n",
    "\n"
   ]
  },
  {
   "cell_type": "code",
   "execution_count": null,
   "metadata": {},
   "outputs": [
    {
     "data": {
      "text/plain": [
       "array([7.00308918e-10, 8.56116959e-10, 1.33703900e-09, 1.11258542e-09])"
      ]
     },
     "execution_count": 121,
     "metadata": {},
     "output_type": "execute_result"
    }
   ],
   "source": [
    "v2"
   ]
  },
  {
   "cell_type": "code",
   "execution_count": null,
   "metadata": {},
   "outputs": [
    {
     "data": {
      "image/png": "[encoded data removed]",
      "text/plain": [
       "<Figure size 640x480 with 1 Axes>"
      ]
     },
     "metadata": {},
     "output_type": "display_data"
    }
   ],
   "source": [
    "plt.imshow(attention_map)\n",
    "plt.show()\n",
    "\n"
   ]
  },
  {
   "cell_type": "code",
   "execution_count": null,
   "metadata": {},
   "outputs": [
    {
     "data": {
      "text/plain": [
       "array([[0.1       , 0.03333333, 0.03333333, 0.03333333, 0.        ],\n",
       "       [0.        , 0.13333333, 0.03333333, 0.        , 0.03333333],\n",
       "       [0.03333333, 0.        , 0.16666667, 0.        , 0.        ],\n",
       "       [0.        , 0.        , 0.03333333, 0.13333333, 0.03333333],\n",
       "       [0.        , 0.        , 0.        , 0.06666667, 0.13333333]])"
      ]
     },
     "execution_count": 106,
     "metadata": {},
     "output_type": "execute_result"
    }
   ],
   "source": [
    "attention_weight_mean_head[-"
   ]
  },
  {
   "cell_type": "code",
   "execution_count": null,
   "metadata": {},
   "outputs": [],
   "source": [
    "import torch.nn.functional as F\n",
    "att_layer = net.encoder_layer[0].multi_head_attention\n",
    "z = features\n",
    "batch_size, num_patch,_ = z.shape\n",
    "num_heads = att_layer.num_heads # num_heads = 3\n",
    "q = att_layer.W_q(z) ## (batch_size, num_patches + 1, embedding_dim)\n",
    "k = att_layer.W_k(z) ## (batch_size, num_patches + 1, embedding_dim)\n",
    "v = att_layer.W_v(z) ## (batch_size, num_patches + 1, embedding_dim)\n",
    "q = q.view(batch_size, num_patch, num_heads, att_layer.head_dim)\n",
    "k = k.view(batch_size, num_patch, num_heads, att_layer.head_dim)\n",
    "v = v.view(batch_size, num_patch, num_heads, att_layer.head_dim)\n",
    "q = q.transpose(1, 2)\n",
    "k = k.transpose(1, 2)\n",
    "v = v.transpose(1, 2)\n",
    "k_T = k.transpose(2, 3)\n",
    "dot_k_q = (q@k_T)/att_layer.sqrt_dh\n",
    "### headで分かれている\n",
    "attn = F.softmax(dot_k_q, dim=-1)"
   ]
  },
  {
   "cell_type": "code",
   "execution_count": null,
   "metadata": {},
   "outputs": [
    {
     "data": {
      "text/plain": [
       "torch.Size([1, 3, 5, 5])"
      ]
     },
     "execution_count": 96,
     "metadata": {},
     "output_type": "execute_result"
    }
   ],
   "source": [
    "attn.shape"
   ]
  },
  {
   "cell_type": "code",
   "execution_count": null,
   "metadata": {},
   "outputs": [],
   "source": [
    "features = extract_attention_weight(model, input_layer, image_reshaped)"
   ]
  },
  {
   "cell_type": "code",
   "execution_count": null,
   "metadata": {},
   "outputs": [
    {
     "data": {
      "text/plain": [
       "torch.Size([1, 5, 384])"
      ]
     },
     "execution_count": 90,
     "metadata": {},
     "output_type": "execute_result"
    }
   ],
   "source": [
    "features.shape"
   ]
  },
  {
   "cell_type": "code",
   "execution_count": null,
   "metadata": {},
   "outputs": [
    {
     "ename": "NameError",
     "evalue": "name 'ViT_input_Layer' is not defined",
     "output_type": "error",
     "traceback": [
      "\u001b[0;31m---------------------------------------------------------------------------\u001b[0m",
      "\u001b[0;31mNameError\u001b[0m                                 Traceback (most recent call last)",
      "Cell \u001b[0;32mIn[86], line 1\u001b[0m\n\u001b[0;32m----> 1\u001b[0m \u001b[43mViT_input_Layer\u001b[49m\n",
      "\u001b[0;31mNameError\u001b[0m: name 'ViT_input_Layer' is not defined"
     ]
    }
   ],
   "source": [
    "ViT_input_Layer"
   ]
  },
  {
   "cell_type": "code",
   "execution_count": null,
   "metadata": {},
   "outputs": [
    {
     "ename": "ValueError",
     "evalue": "all the input arrays must have same number of dimensions, but the array at index 0 has 4 dimension(s) and the array at index 12 has 3 dimension(s)",
     "output_type": "error",
     "traceback": [
      "\u001b[0;31m---------------------------------------------------------------------------\u001b[0m",
      "\u001b[0;31mValueError\u001b[0m                                Traceback (most recent call last)",
      "Cell \u001b[0;32mIn[75], line 7\u001b[0m\n\u001b[1;32m      5\u001b[0m     features \u001b[38;5;241m=\u001b[39m extract_attention_weight(model, encoder_layer, image_reshaped)\n\u001b[1;32m      6\u001b[0m     attention_weight_list\u001b[38;5;241m.\u001b[39mappend(features\u001b[38;5;241m.\u001b[39mto(\u001b[38;5;124m\"\u001b[39m\u001b[38;5;124mcpu\u001b[39m\u001b[38;5;124m\"\u001b[39m)\u001b[38;5;241m.\u001b[39mdetach()\u001b[38;5;241m.\u001b[39mnumpy()\u001b[38;5;241m.\u001b[39mcopy())\n\u001b[0;32m----> 7\u001b[0m attention_weight \u001b[38;5;241m=\u001b[39m np\u001b[38;5;241m.\u001b[39msqueeze(\u001b[43mnp\u001b[49m\u001b[38;5;241;43m.\u001b[39;49m\u001b[43mconcatenate\u001b[49m\u001b[43m(\u001b[49m\u001b[43mattention_weight_list\u001b[49m\u001b[43m)\u001b[49m,axis\u001b[38;5;241m=\u001b[39m\u001b[38;5;241m1\u001b[39m)\n\u001b[1;32m      8\u001b[0m \u001b[38;5;66;03m## Take the average of the attention weight \u001b[39;00m\n\u001b[1;32m      9\u001b[0m attention_weight \u001b[38;5;241m=\u001b[39m np\u001b[38;5;241m.\u001b[39mmean(attention_weight, axis\u001b[38;5;241m=\u001b[39m\u001b[38;5;241m1\u001b[39m)\n",
      "\u001b[0;31mValueError\u001b[0m: all the input arrays must have same number of dimensions, but the array at index 0 has 4 dimension(s) and the array at index 12 has 3 dimension(s)"
     ]
    }
   ],
   "source": [
    "##修正版 Attention drop直後の出力を吐き出す\n",
    "import numpy as np\n",
    "for i in range(len(model.encoder_layer)):\n",
    "    encoder_layer = model.encoder_layer[i].multi_head_attention.attn_drop\n",
    "    ## features.shape = (1, 128, 192, 192)\n",
    "    features = extract_attention_weight(model, encoder_layer, image_reshaped)\n",
    "    attention_weight_list.append(features.to(\"cpu\").detach().numpy().copy())\n",
    "attention_weight = np.squeeze(np.concatenate(attention_weight_list),axis=1)\n",
    "## Take the average of the attention weight \n",
    "attention_weight = np.mean(attention_weight, axis=1)\n",
    "attention_weight.shape\n",
    "\n"
   ]
  },
  {
   "cell_type": "code",
   "execution_count": null,
   "metadata": {},
   "outputs": [
    {
     "data": {
      "text/plain": [
       "(1, 5, 384)"
      ]
     },
     "execution_count": 80,
     "metadata": {},
     "output_type": "execute_result"
    }
   ],
   "source": [
    "attention_weight_list[0][0].shape"
   ]
  },
  {
   "cell_type": "code",
   "execution_count": null,
   "metadata": {},
   "outputs": [
    {
     "name": "stdout",
     "output_type": "stream",
     "text": [
      "Attributes of encoder_layer:\n",
      "T_destination\n",
      "add_module\n",
      "apply\n",
      "bfloat16\n",
      "buffers\n",
      "call_super_init\n",
      "children\n",
      "compile\n",
      "cpu\n",
      "cuda\n",
      "double\n",
      "dump_patches\n",
      "embedding_dim\n",
      "eval\n",
      "extra_repr\n",
      "float\n",
      "forward\n",
      "get_buffer\n",
      "get_extra_state\n",
      "get_parameter\n",
      "get_submodule\n",
      "half\n",
      "head_dim\n",
      "ipu\n",
      "layer_norm_1\n",
      "layer_norm_2\n",
      "load_state_dict\n",
      "mlp\n",
      "modules\n",
      "multi_head_attention\n",
      "named_buffers\n",
      "named_children\n",
      "named_modules\n",
      "named_parameters\n",
      "num_heads\n",
      "parameters\n",
      "register_backward_hook\n",
      "register_buffer\n",
      "register_forward_hook\n",
      "register_forward_pre_hook\n",
      "register_full_backward_hook\n",
      "register_full_backward_pre_hook\n",
      "register_load_state_dict_post_hook\n",
      "register_module\n",
      "register_parameter\n",
      "register_state_dict_pre_hook\n",
      "requires_grad_\n",
      "set_extra_state\n",
      "share_memory\n",
      "state_dict\n",
      "to\n",
      "to_empty\n",
      "train\n",
      "training\n",
      "type\n",
      "xpu\n",
      "zero_grad\n"
     ]
    }
   ],
   "source": [
    "# Print the attributes of the encoder_layer\n",
    "print(\"Attributes of encoder_layer:\")\n",
    "for attr in dir(model.encoder_layer[i]):\n",
    "    if not attr.startswith(\"__\") and not attr.endswith(\"__\") and not attr.startswith(\"_\"):\n",
    "        print(attr)\n",
    "\n"
   ]
  },
  {
   "cell_type": "code",
   "execution_count": null,
   "metadata": {},
   "outputs": [
    {
     "name": "stdout",
     "output_type": "stream",
     "text": [
      "conv1 activation: tensor([[[[-0.2152, -0.4564,  0.7076,  ...,  0.2806, -0.3160,  0.2023],\n",
      "          [-0.0117,  1.1896,  1.7433,  ...,  0.2173,  0.8605,  0.0876],\n",
      "          [ 0.1147,  1.0799,  0.4437,  ...,  0.9867,  1.0755, -0.5029],\n",
      "          ...,\n",
      "          [-0.1860,  0.2035,  0.3674,  ..., -0.5535, -0.3839, -0.2352],\n",
      "          [-0.6834,  0.2272,  0.6110,  ..., -0.4193,  0.0049, -0.2081],\n",
      "          [ 0.0539,  1.3260, -0.4813,  ..., -0.0712, -0.0320, -0.8060]],\n",
      "\n",
      "         [[ 0.1778,  0.0961,  0.2402,  ..., -0.4152, -1.8323, -1.0997],\n",
      "          [-0.6671, -0.1976, -0.0303,  ...,  0.0638,  0.7930,  0.3436],\n",
      "          [-0.3045, -0.0695, -0.1761,  ...,  0.4772,  0.7241, -0.2473],\n",
      "          ...,\n",
      "          [-0.6782,  0.9323,  0.0678,  ..., -0.5960,  0.0435,  0.5721],\n",
      "          [ 0.3206,  0.5230, -0.4350,  ...,  0.2159, -0.6651, -0.6206],\n",
      "          [ 0.3888, -0.0932, -0.5978,  ...,  0.1708,  0.5133,  0.1108]],\n",
      "\n",
      "         [[ 0.1020, -0.0901,  0.4087,  ..., -0.5742, -0.2523,  0.1049],\n",
      "          [-0.7219, -0.4055, -0.7804,  ..., -1.0669,  0.1556, -0.1434],\n",
      "          [-1.9084, -0.4805, -0.0855,  ..., -0.2327,  0.5538, -0.7523],\n",
      "          ...,\n",
      "          [-1.2017, -0.4450,  0.5395,  ..., -1.0899,  0.7089,  0.4344],\n",
      "          [-0.3341,  0.4375, -0.2810,  ..., -0.5416,  0.3055, -0.2732],\n",
      "          [ 0.7263, -1.2419, -0.7655,  ...,  0.0181,  0.2166,  0.1743]],\n",
      "\n",
      "         ...,\n",
      "\n",
      "         [[-0.7174, -0.7493, -0.5467,  ..., -0.0702, -0.3523, -0.3001],\n",
      "          [-0.0780, -0.7212,  0.6592,  ..., -0.6209,  0.0612,  0.2941],\n",
      "          [ 0.7849,  0.6605,  0.8114,  ...,  0.0956,  0.2437, -0.4149],\n",
      "          ...,\n",
      "          [ 0.4325, -0.1636, -0.1823,  ..., -0.4964, -0.0998, -0.2426],\n",
      "          [ 0.3182,  0.1080, -0.2366,  ...,  0.7274, -0.1380,  0.2126],\n",
      "          [-0.2397,  0.3932, -0.3487,  ..., -1.3471, -0.2902,  0.0090]],\n",
      "\n",
      "         [[ 0.2456, -0.0875, -0.6150,  ..., -0.9049,  0.7647, -0.6759],\n",
      "          [-0.6739,  0.3793,  1.4784,  ...,  0.9467,  0.3256, -0.2347],\n",
      "          [ 0.3051,  0.5076,  0.6956,  ..., -0.0052,  0.2406,  0.3338],\n",
      "          ...,\n",
      "          [ 1.1500,  0.1018,  0.6708,  ...,  0.5209,  0.0555,  0.0272],\n",
      "          [ 0.1435, -1.0936,  0.7216,  ...,  0.1711,  0.3311, -0.1288],\n",
      "          [ 0.0240,  0.2610,  0.0115,  ...,  0.7478,  0.5536, -0.3794]],\n",
      "\n",
      "         [[ 0.5114,  0.8231,  0.8384,  ..., -0.4503, -1.0911, -0.2050],\n",
      "          [ 0.1419,  0.6120, -0.6807,  ..., -0.8152, -0.0999, -0.6885],\n",
      "          [-0.9057, -0.5109, -0.7816,  ...,  0.3787, -0.5253, -0.8426],\n",
      "          ...,\n",
      "          [-0.7375,  0.4245, -0.4037,  ..., -0.1616, -0.0911,  0.7283],\n",
      "          [ 0.3027,  0.6383, -0.4557,  ...,  0.3177, -0.1655, -0.8836],\n",
      "          [ 0.4017, -0.6500, -0.4757,  ...,  0.5239, -0.4380, -0.3570]]]])\n"
     ]
    }
   ],
   "source": [
    "import torch\n",
    "import torch.nn as nn\n",
    "\n",
    "# モデル定義\n",
    "class MyModel(nn.Module):\n",
    "    def __init__(self):\n",
    "        super(MyModel, self).__init__()\n",
    "        self.conv1 = nn.Conv2d(1, 20, 5)\n",
    "        self.relu = nn.ReLU()\n",
    "        self.conv2 = nn.Conv2d(20, 20, 5)\n",
    "\n",
    "    def forward(self, x):\n",
    "        x = self.conv1(x)\n",
    "        x = self.relu(x)\n",
    "        x = self.conv2(x)\n",
    "        return x\n",
    "\n",
    "# モデルのインスタンス化\n",
    "model = MyModel()\n",
    "\n",
    "# フックを定義\n",
    "def get_activation(name):\n",
    "    def hook(model, input, output):\n",
    "        print(f\"{name} activation: {output.detach()}\")\n",
    "    return hook\n",
    "\n",
    "# 特定の層にフックを登録\n",
    "hook = model.conv1.register_forward_hook(get_activation('conv1'))\n",
    "\n",
    "# データをモデルに通す\n",
    "input = torch.randn(1, 1, 28, 28)\n",
    "output = model(input)\n",
    "\n",
    "# フックを削除（必要があれば）\n",
    "hook.remove()"
   ]
  },
  {
   "cell_type": "code",
   "execution_count": null,
   "metadata": {},
   "outputs": [
    {
     "data": {
      "text/plain": [
       "tensor([[[[ 0.0643,  0.1789,  0.4432,  ...,  0.0241,  0.1549,  0.2673],\n",
       "          [ 0.4949,  0.0820,  0.3630,  ...,  0.0675,  0.1065,  0.0866],\n",
       "          [ 0.1509,  0.1693,  0.2042,  ...,  0.4384, -0.2137,  0.0733],\n",
       "          ...,\n",
       "          [-0.0302, -0.0593,  0.4920,  ..., -0.0094,  0.1352,  0.1130],\n",
       "          [ 0.2640, -0.0106,  0.2327,  ...,  0.2137, -0.1638,  0.3165],\n",
       "          [ 0.2224,  0.0083,  0.2344,  ..., -0.0076,  0.3995, -0.0171]],\n",
       "\n",
       "         [[-0.2313,  0.2140, -0.2553,  ..., -0.0205,  0.3990, -0.1821],\n",
       "          [-0.1042, -0.1138, -0.3324,  ..., -0.0968, -0.4518, -0.2134],\n",
       "          [-0.5432,  0.1009, -0.1195,  ...,  0.3098, -0.1122, -0.0801],\n",
       "          ...,\n",
       "          [ 0.1596, -0.2391,  0.0100,  ..., -0.0273, -0.0818,  0.4010],\n",
       "          [-0.1092, -0.2951, -0.0374,  ..., -0.3855,  0.0127,  0.0573],\n",
       "          [-0.0972,  0.0858, -0.3816,  ...,  0.0057,  0.0312, -0.1901]],\n",
       "\n",
       "         [[ 0.0971,  0.3713, -0.3138,  ...,  0.3033,  0.6224,  0.3292],\n",
       "          [-0.1690,  0.0247,  0.0266,  ..., -0.0111,  0.2036, -0.2126],\n",
       "          [ 0.3275,  0.0505,  0.4379,  ..., -0.0073,  0.4349,  0.2096],\n",
       "          ...,\n",
       "          [ 0.3269,  0.4931, -0.1109,  ...,  0.4704,  0.1329, -0.3038],\n",
       "          [ 0.1793,  0.1283, -0.1443,  ...,  0.1667,  0.2890,  0.0936],\n",
       "          [ 0.3181, -0.1203, -0.1181,  ..., -0.0938,  0.0809,  0.2305]],\n",
       "\n",
       "         ...,\n",
       "\n",
       "         [[-0.1306,  0.2006,  0.4077,  ...,  0.2595,  0.0855,  0.1259],\n",
       "          [-0.0435,  0.0326,  0.0327,  ..., -0.2033,  0.3104,  0.1296],\n",
       "          [ 0.0486, -0.1460,  0.2444,  ..., -0.1028, -0.0842, -0.5480],\n",
       "          ...,\n",
       "          [-0.2508, -0.0075,  0.1193,  ...,  0.1796,  0.1820, -0.0732],\n",
       "          [ 0.1142,  0.0732,  0.1610,  ..., -0.3645,  0.0819,  0.0858],\n",
       "          [-0.0105,  0.1528,  0.1196,  ..., -0.2138,  0.0354,  0.1679]],\n",
       "\n",
       "         [[-0.0667,  0.0978,  0.1482,  ...,  0.2875, -0.0848,  0.1411],\n",
       "          [-0.4035,  0.0512, -0.1000,  ...,  0.0302,  0.0280, -0.1246],\n",
       "          [ 0.1574, -0.1650, -0.0127,  ...,  0.1291, -0.1619, -0.1405],\n",
       "          ...,\n",
       "          [ 0.1294,  0.4745, -0.0568,  ...,  0.2674,  0.2817,  0.3172],\n",
       "          [ 0.0800,  0.0154,  0.2789,  ...,  0.1914,  0.2727,  0.2330],\n",
       "          [ 0.2366,  0.0762, -0.0247,  ...,  0.0841, -0.1915,  0.2549]],\n",
       "\n",
       "         [[-0.0198, -0.5425,  0.0270,  ..., -0.3617, -0.2666,  0.2174],\n",
       "          [-0.2360, -0.1344, -0.0526,  ..., -0.2355,  0.0351, -0.4336],\n",
       "          [-0.2894, -0.2386, -0.0013,  ...,  0.0643,  0.0332,  0.0796],\n",
       "          ...,\n",
       "          [-0.2293, -0.0233,  0.1465,  ..., -0.3048, -0.1735,  0.0758],\n",
       "          [-0.1866,  0.1252, -0.3725,  ...,  0.0538, -0.1242,  0.0516],\n",
       "          [-0.0660, -0.3273,  0.0496,  ..., -0.3828, -0.1149, -0.1265]]]],\n",
       "       grad_fn=<ConvolutionBackward0>)"
      ]
     },
     "execution_count": 64,
     "metadata": {},
     "output_type": "execute_result"
    }
   ],
   "source": [
    "output"
   ]
  },
  {
   "cell_type": "code",
   "execution_count": null,
   "metadata": {},
   "outputs": [],
   "source": []
  }
 ],
 "metadata": {
  "kernelspec": {
   "display_name": "base",
   "language": "python",
   "name": "python3"
  },
  "language_info": {
   "codemirror_mode": {
    "name": "ipython",
    "version": 3
   },
   "file_extension": ".py",
   "mimetype": "text/x-python",
   "name": "python",
   "nbconvert_exporter": "python",
   "pygments_lexer": "ipython3",
   "version": "3.11.2"
  }
 },
 "nbformat": 4,
 "nbformat_minor": 2
}
